{
 "cells": [
  {
   "cell_type": "code",
   "execution_count": 1,
   "id": "8cf3be81",
   "metadata": {},
   "outputs": [],
   "source": [
    "import numpy as np\n",
    "import openslide\n",
    "import cv2\n",
    "import PIL.Image as Image\n",
    "import matplotlib.pyplot as plt\n",
    "import tqdm\n",
    "from skimage import transform\n",
    "import os"
   ]
  },
  {
   "cell_type": "code",
   "execution_count": 2,
   "id": "136a7ec9",
   "metadata": {},
   "outputs": [],
   "source": [
    "from modules.wsiTile import WSITile\n",
    "from modules.wsiRegister import WSIRegister\n",
    "from modules.utility import slide_summary\n",
    "import config\n",
    "%load_ext autoreload\n",
    "%autoreload 2"
   ]
  },
  {
   "cell_type": "markdown",
   "id": "c42a120a",
   "metadata": {},
   "source": [
    "## Load WSI "
   ]
  },
  {
   "cell_type": "code",
   "execution_count": 3,
   "id": "190c5ae1",
   "metadata": {},
   "outputs": [],
   "source": [
    "slideHE = openslide.open_slide(config.TARGET_SLIDE_PATH)\n",
    "slideGI = openslide.open_slide(config.SOURCE_SLIDE_PATH)\n"
   ]
  },
  {
   "cell_type": "markdown",
   "id": "70dd9ed8",
   "metadata": {},
   "source": [
    "\n",
    "WSI information"
   ]
  },
  {
   "cell_type": "code",
   "execution_count": 4,
   "id": "ac746a26",
   "metadata": {},
   "outputs": [
    {
     "name": "stdout",
     "output_type": "stream",
     "text": [
      "HE\n",
      "the objective power is 40\n",
      "Dimensions are: ((61440, 73728), (30720, 36864), (15360, 18432), (7680, 9216), (3840, 4608), (1920, 2304), (960, 1152), (480, 576), (240, 288))\n",
      "Factors are: (1.0, 2.0, 4.0, 8.0, 16.0, 32.0, 64.0, 128.0, 256.0)\n",
      "\n",
      "GIESMA\n",
      "the objective power is 40\n",
      "Dimensions are: ((76800, 59904), (38400, 29952), (19200, 14976), (9600, 7488), (4800, 3744), (2400, 1872), (1200, 936), (600, 468), (300, 234))\n",
      "Factors are: (1.0, 2.0, 4.0, 8.0, 16.0, 32.0, 64.0, 128.0, 256.0)\n"
     ]
    }
   ],
   "source": [
    "print(\"HE\")\n",
    "_, objectiveHE, dimsHE, factorsHE = slide_summary(slideHE, verbose=True)\n",
    "print(\"\\nGIESMA\")\n",
    "_, objectiveGI, dimsGI, factorsGI = slide_summary(slideGI, verbose=True)"
   ]
  },
  {
   "cell_type": "code",
   "execution_count": null,
   "id": "6f3579fe",
   "metadata": {},
   "outputs": [],
   "source": [
    "slide_thumb_HE = slideHE.get_thumbnail(size=(800, 800))\n",
    "print(np.asarray(slide_thumb_HE).shape)\n",
    "slide_thumb_HE"
   ]
  },
  {
   "cell_type": "code",
   "execution_count": null,
   "id": "8789bbbf",
   "metadata": {},
   "outputs": [],
   "source": [
    "slide_thumb_GI = slideGI.get_thumbnail(size=(800, 800))\n",
    "slide_thumb_GI"
   ]
  },
  {
   "cell_type": "code",
   "execution_count": null,
   "id": "10011dab",
   "metadata": {},
   "outputs": [],
   "source": [
    "shape = (dimsHE[6][1], dimsHE[6][0])\n",
    "imgHE = WSITile(slideHE, level=6, top_left_coord=(0, 0), shape=shape)\n",
    "shape = (dimsGI[6][1], dimsGI[6][0])\n",
    "imgGI = WSITile(slideGI, level=6, top_left_coord=(0, 0), shape=shape)\n",
    "\n",
    "ax = 'off'\n",
    "\n",
    "# Plot two images side by side\n",
    "fig, ax = plt.subplots(1, 2, figsize=(10, 10))\n",
    "ax[0].imshow(imgHE.tile)\n",
    "ax[0].set_title('HE')\n",
    "ax[0].axis('off')\n",
    "ax[1].imshow(imgGI.tile)\n",
    "ax[1].set_title('Giesma')\n",
    "ax[1].axis('off')\n",
    "plt.show()"
   ]
  },
  {
   "cell_type": "markdown",
   "id": "ff8a1f95",
   "metadata": {},
   "source": [
    "## Create an object WSI_alinger"
   ]
  },
  {
   "cell_type": "code",
   "execution_count": 47,
   "id": "d30b9b21",
   "metadata": {},
   "outputs": [],
   "source": [
    "wsi_reg = WSIRegister(target_slide=slideHE,\n",
    "                      source_slide=slideGI)"
   ]
  },
  {
   "cell_type": "markdown",
   "id": "518bf597",
   "metadata": {},
   "source": [
    "## Stain Deconvolution\n",
    "extract cytoplasm"
   ]
  },
  {
   "cell_type": "code",
   "execution_count": null,
   "id": "353f279d",
   "metadata": {},
   "outputs": [],
   "source": [
    "plt.imshow(imgHE.cyto, cmap='gray')\n",
    "plt.title('Eosin HE')\n",
    "plt.show()\n",
    "\n",
    "plt.imshow(imgGI.cyto, cmap='gray')\n",
    "plt.title('Eosin Giesma')\n",
    "plt.show()"
   ]
  },
  {
   "cell_type": "markdown",
   "id": "387087e0",
   "metadata": {},
   "source": [
    "## SIFT + RANSAC"
   ]
  },
  {
   "cell_type": "code",
   "execution_count": null,
   "id": "2ba88161",
   "metadata": {},
   "outputs": [],
   "source": [
    "p_points, q_points = wsi_reg.find_matches_with_SIFT_and_RANSAC(target=imgHE.cyto,\n",
    "                                                               source=imgGI.cyto,\n",
    "                                                               min_match_count=12,\n",
    "                                                               verbose=True,\n",
    "                                                               plot=True,\n",
    "                                                               target_to_show=imgHE.tile,\n",
    "                                                               source_to_show=imgGI.tile,\n",
    "                                                               plot_title='SIFT detection + RANSAC')"
   ]
  },
  {
   "cell_type": "markdown",
   "id": "f965769d",
   "metadata": {},
   "source": [
    "\n",
    "\n",
    "p_points, q_points = find_matches(imgHE.cyto, \n",
    "                                  imgGI.cyto,\n",
    "                                  min_match_count=10,\n",
    "                                  verbose=True,\n",
    "                                  plot=True,\n",
    "                                  target_to_show=imgHE.tile,\n",
    "                                  source_to_show=imgGI.tile,\n",
    "                                  plot_title='SIFT detection + RANSAC')"
   ]
  },
  {
   "cell_type": "markdown",
   "id": "6f752c52",
   "metadata": {},
   "source": [
    "## Transformation Parameters: S, R, T"
   ]
  },
  {
   "cell_type": "code",
   "execution_count": 15,
   "id": "2864f4b1",
   "metadata": {},
   "outputs": [
    {
     "name": "stdout",
     "output_type": "stream",
     "text": [
      "Shape covariance matrix is (2, 2)\n",
      "det(R) = -0.9999999999999998\n",
      "S = 3.02778767479297\n",
      "R = [[-0.62460845  0.78093808]\n",
      " [ 0.78093808  0.62460845]]\n",
      "T = [  70.90183822 -420.87420441]\n"
     ]
    }
   ],
   "source": [
    "S, R, T = wsi_reg.evaluate_transformation_param(p=p_points,\n",
    "                                                q=q_points,\n",
    "                                                verbose=True)"
   ]
  },
  {
   "cell_type": "code",
   "execution_count": null,
   "id": "05effefb",
   "metadata": {},
   "outputs": [],
   "source": [
    "wsi_reg.plot_aligned_points(p=p_points,\n",
    "                            q=q_points,\n",
    "                            S=S,\n",
    "                            R=R,\n",
    "                            T=T)"
   ]
  },
  {
   "cell_type": "code",
   "execution_count": null,
   "id": "a061b8c5",
   "metadata": {},
   "outputs": [],
   "source": [
    "source_reg = wsi_reg.image_registration(target=imgHE.tile_grayscale, \n",
    "                                        source=imgGI.tile_grayscale,\n",
    "                                        S=S,\n",
    "                                        R=R,\n",
    "                                        T=T)"
   ]
  },
  {
   "cell_type": "code",
   "execution_count": null,
   "id": "84243d81",
   "metadata": {},
   "outputs": [],
   "source": [
    "merged_img = wsi_reg.merge_registered_imgs(target=imgHE.tile_grayscale,\n",
    "                                   source_reg=source_reg)\n",
    "\n",
    "plt.imshow(merged_img)\n",
    "plt.axis('off')\n",
    "plt.show()"
   ]
  },
  {
   "cell_type": "markdown",
   "id": "5d0895fb",
   "metadata": {},
   "source": [
    "## Pyramidal alignment"
   ]
  },
  {
   "cell_type": "code",
   "execution_count": 37,
   "id": "5bfecc73",
   "metadata": {},
   "outputs": [],
   "source": [
    "REF_LEVEL = 6 # level where the gloab alignment is performed\n",
    "LEVEL = [5, 4, 3, 2, 1, 0]\n",
    "coords_first_inner_level = np.asarray([150, 140])\n",
    "TOP_LEFT = [coords_first_inner_level * 2**i for i in [0, 1, 2, 3, 4, 5]]\n",
    "#TOP_LEFT = [(70, 100), (140, 200), (3000, 3000), (6000, 6000), (12000, 12000), (24000, 24000)]\n",
    "DIMS = (256, 256)"
   ]
  },
  {
   "cell_type": "code",
   "execution_count": null,
   "id": "6d1a6944",
   "metadata": {},
   "outputs": [],
   "source": [
    "reg_img5 = wsi_reg.pyramid_alignment(level=LEVEL[0], \n",
    "                                     dims=DIMS, \n",
    "                                     top_left=TOP_LEFT[0], \n",
    "                                     R=R, \n",
    "                                     S=S, \n",
    "                                     T=T, \n",
    "                                     ref_level=REF_LEVEL, \n",
    "                                     plot=True)"
   ]
  },
  {
   "cell_type": "code",
   "execution_count": null,
   "id": "4504456f",
   "metadata": {},
   "outputs": [],
   "source": [
    "reg_img4 = wsi_reg.pyramid_alignment(level=LEVEL[1], \n",
    "                                     dims=DIMS, \n",
    "                                     top_left=TOP_LEFT[1], \n",
    "                                     R=R, \n",
    "                                     S=S, \n",
    "                                     T=T, \n",
    "                                     ref_level=REF_LEVEL, \n",
    "                                     plot=True)"
   ]
  },
  {
   "cell_type": "code",
   "execution_count": null,
   "id": "91a90d21",
   "metadata": {},
   "outputs": [],
   "source": [
    "reg_img3 = wsi_reg.pyramid_alignment(level=LEVEL[2], \n",
    "                                     dims=DIMS, \n",
    "                                     top_left=TOP_LEFT[2], \n",
    "                                     R=R, \n",
    "                                     S=S, \n",
    "                                     T=T, \n",
    "                                     ref_level=REF_LEVEL, \n",
    "                                     plot=True)"
   ]
  },
  {
   "cell_type": "code",
   "execution_count": null,
   "id": "3557a741",
   "metadata": {},
   "outputs": [],
   "source": [
    "reg_img2 = wsi_reg.pyramid_alignment(level=LEVEL[3], \n",
    "                                     dims=DIMS, \n",
    "                                     top_left=TOP_LEFT[3], \n",
    "                                     R=R, \n",
    "                                     S=S, \n",
    "                                     T=T, \n",
    "                                     ref_level=REF_LEVEL, \n",
    "                                     plot=True)"
   ]
  },
  {
   "cell_type": "code",
   "execution_count": null,
   "id": "97839606",
   "metadata": {},
   "outputs": [],
   "source": [
    "reg_img1 = wsi_reg.pyramid_alignment(level=LEVEL[4], \n",
    "                                     dims=DIMS, \n",
    "                                     top_left=TOP_LEFT[4], \n",
    "                                     R=R, \n",
    "                                     S=S, \n",
    "                                     T=T, \n",
    "                                     ref_level=REF_LEVEL, \n",
    "                                     plot=True)"
   ]
  },
  {
   "cell_type": "code",
   "execution_count": null,
   "id": "fd02b441",
   "metadata": {},
   "outputs": [],
   "source": [
    "reg_img0 = wsi_reg.pyramid_alignment(level=LEVEL[5], \n",
    "                                     dims=DIMS, \n",
    "                                     top_left=TOP_LEFT[5], \n",
    "                                     R=R, \n",
    "                                     S=S, \n",
    "                                     T=T, \n",
    "                                     ref_level=REF_LEVEL, \n",
    "                                     plot=True)"
   ]
  },
  {
   "cell_type": "markdown",
   "id": "92a1a453",
   "metadata": {},
   "source": [
    "## Local iterative registration"
   ]
  },
  {
   "cell_type": "markdown",
   "id": "a6bd0e30",
   "metadata": {},
   "source": [
    "Select top-left corners to cover the great majority of the image"
   ]
  },
  {
   "cell_type": "code",
   "execution_count": null,
   "id": "971b59cb",
   "metadata": {},
   "outputs": [],
   "source": [
    "plt.imshow(imgHE.tile)\n",
    "x = np.arange(80, 450, 50)\n",
    "y = [80 for _ in range(len(x))]\n",
    "plt.scatter(x, y, s=8, c='blue')\n",
    "plt.axis('off')\n",
    "plt.show()"
   ]
  },
  {
   "cell_type": "code",
   "execution_count": 17,
   "id": "1f135e95",
   "metadata": {},
   "outputs": [],
   "source": [
    "LEVEL_START = 6\n",
    "LEVEL_STOP = 2\n",
    "TILE_SIZE = (256, 256)"
   ]
  },
  {
   "cell_type": "markdown",
   "id": "ad32ebfc",
   "metadata": {},
   "source": [
    "For each selected top-left corner, perform both static and iterative registration"
   ]
  },
  {
   "cell_type": "code",
   "execution_count": 18,
   "id": "6067a497",
   "metadata": {},
   "outputs": [],
   "source": [
    "save_path = os.path.join(config.SAVE_FOLDER, 'Static_VS_Iterative')\n",
    "if not os.path.exists(save_path):\n",
    "    os.makedirs(save_path)"
   ]
  },
  {
   "cell_type": "code",
   "execution_count": null,
   "id": "cf55d714",
   "metadata": {},
   "outputs": [],
   "source": [
    "\n",
    "for idx in tqdm.tqdm(range(len(y))):\n",
    "    \n",
    "    # Evaluate the transformation parameters R, S and T for each level\n",
    "    top_left = (int(y[idx]), int(x[idx]))\n",
    "    parameters = wsi_reg.local_iterative_registration(level_start=LEVEL_START, \n",
    "                                                      level_stop=LEVEL_STOP, \n",
    "                                                      top_left_start=top_left, \n",
    "                                                      tile_size=TILE_SIZE,\n",
    "                                                      min_match_count=4,\n",
    "                                                      plot=False)\n",
    "    \n",
    "    # Use the LEVEL START parameters for the static pyramidal registration\n",
    "    S_ref, R_ref, T_ref = parameters[f'level_{LEVEL_START}']\n",
    "    static_reg_imgs = wsi_reg.stack_static_registration(ref_level=LEVEL_START, \n",
    "                                                        top_left_start=top_left, \n",
    "                                                        tile_size=TILE_SIZE, \n",
    "                                                        S=S_ref, \n",
    "                                                        R=R_ref, \n",
    "                                                        T=T_ref)\n",
    "    \n",
    "    # Perform iterative pyramidal registration\n",
    "    iter_reg_imgs = wsi_reg.stack_iterative_registration(ref_level=LEVEL_START, \n",
    "                                                         top_left_start=top_left, \n",
    "                                                         tile_size=TILE_SIZE, \n",
    "                                                         parameters=parameters)\n",
    "    \n",
    "    # Save images \n",
    "    levels = np.arange(LEVEL_START-1, -1, -1) # from level start to zero\n",
    "    for i, level in enumerate(levels):\n",
    "        path = os.path.join(save_path, f'level_{level}') \n",
    "        if not os.path.exists(path):\n",
    "            os.makedirs(path)\n",
    "        plt.imsave(os.path.join(path, f'static_{idx}.png'), static_reg_imgs[i])\n",
    "        plt.imsave(os.path.join(path, f'iterative_{idx}.png'), iter_reg_imgs[i])\n",
    "        \n",
    "    "
   ]
  },
  {
   "cell_type": "markdown",
   "id": "ad82275c",
   "metadata": {},
   "source": [
    "## Compare Static vs Iterative with Mutual Image Information"
   ]
  },
  {
   "cell_type": "code",
   "execution_count": 20,
   "id": "d8b7b1b7",
   "metadata": {},
   "outputs": [],
   "source": [
    "LEVEL = [0, 1, 2, 3, 4, 5]\n",
    "\n",
    "static_mean_mii = []\n",
    "iter_mean_mii = []\n",
    "static_std_mii = []\n",
    "iter_std_mii = []\n",
    "\n",
    "for level in LEVEL:\n",
    "    path = os.path.join(save_path, f'level_{level}')\n",
    "    num = int(len(os.listdir(path)) / 2)\n",
    "    imgs_iter = []\n",
    "    imgs_static = []\n",
    "    for i in range(num):\n",
    "        filename_iter = os.path.join(path, f'iterative_{i}.png')\n",
    "        filename_static = os.path.join(path, f'static_{i}.png')\n",
    "        img_iter = Image.open(filename_iter)\n",
    "        img_static = Image.open(filename_static)\n",
    "        imgs_iter.append(np.asarray(img_iter))\n",
    "        imgs_static.append(np.asarray(img_static))\n",
    "    mii_1 = []\n",
    "    mii_2 = []\n",
    "    for i in range(len(imgs_iter)):\n",
    "        mii_1.append(wsi_reg.mii_evaluation(imgs_iter[i]))\n",
    "        mii_2.append(wsi_reg.mii_evaluation(imgs_static[i]))\n",
    "    \n",
    "    iter_mean_mii.append(np.mean(mii_1))\n",
    "    static_mean_mii.append(np.mean(mii_2))\n",
    "    iter_std_mii.append(np.std(mii_1))\n",
    "    static_std_mii.append(np.std(mii_2))\n"
   ]
  },
  {
   "cell_type": "code",
   "execution_count": null,
   "id": "30566b17",
   "metadata": {},
   "outputs": [],
   "source": [
    "# Scatter plot with y-errors\n",
    "plt.errorbar(LEVEL, \n",
    "             static_mean_mii, \n",
    "             yerr=static_std_mii, \n",
    "             fmt='o', \n",
    "             capsize=5, markersize=5, color='blue', ecolor='blue', label='Static method', elinewidth=0.5)\n",
    "\n",
    "plt.errorbar(LEVEL, \n",
    "             iter_mean_mii, \n",
    "             yerr=static_std_mii, \n",
    "             fmt='o', \n",
    "             capsize=5, markersize=5, color='red', ecolor='red', label='Iterative method', elinewidth=0.5)\n",
    "\n",
    "# Aggiungi etichette e titolo\n",
    "plt.xlabel('level')\n",
    "plt.ylabel('MII')\n",
    "plt.grid()\n",
    "plt.title('Mutual Image Information')\n",
    "\n",
    "# Aggiungi legenda\n",
    "plt.legend()\n",
    "\n",
    "# Mostra il plot\n",
    "plt.show()"
   ]
  },
  {
   "cell_type": "code",
   "execution_count": null,
   "id": "8216cd23",
   "metadata": {},
   "outputs": [],
   "source": [
    "for level in tqdm.tqdm(LEVEL):\n",
    "    for idx in range(num):\n",
    "        img1 = Image.open(os.path.join(save_path, f'level_{level}/iterative_{idx}.png'))\n",
    "        img2 = Image.open(os.path.join(save_path, f'level_{level}/static_{idx}.png'))\n",
    "\n",
    "        fig, (ax1, ax2) = plt.subplots(1, 2, figsize=(10, 5))\n",
    "\n",
    "        ax1.imshow(img1)\n",
    "        ax1.set_title(f'Iterative method-Level {level}')\n",
    "        ax1.axis('off')\n",
    "\n",
    "        ax2.imshow(img2)\n",
    "        ax2.set_title(f'Static method-Level {level}')\n",
    "        ax2.axis('off')\n",
    "        \n",
    "        plt.show()\n",
    "        \n",
    "        "
   ]
  }
 ],
 "metadata": {
  "kernelspec": {
   "display_name": "Python 3 (ipykernel)",
   "language": "python",
   "name": "python3"
  },
  "language_info": {
   "codemirror_mode": {
    "name": "ipython",
    "version": 3
   },
   "file_extension": ".py",
   "mimetype": "text/x-python",
   "name": "python",
   "nbconvert_exporter": "python",
   "pygments_lexer": "ipython3",
   "version": "3.11.3"
  }
 },
 "nbformat": 4,
 "nbformat_minor": 5
}
